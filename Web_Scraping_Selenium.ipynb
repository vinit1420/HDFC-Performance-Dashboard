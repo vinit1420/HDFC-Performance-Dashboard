{
 "cells": [
  {
   "cell_type": "code",
   "execution_count": 1,
   "metadata": {},
   "outputs": [],
   "source": [
    "from selenium import webdriver"
   ]
  },
  {
   "cell_type": "code",
   "execution_count": 2,
   "metadata": {},
   "outputs": [],
   "source": [
    "#Creating a chrome webdriver object\n",
    "driver = webdriver.Chrome()"
   ]
  },
  {
   "cell_type": "code",
   "execution_count": 3,
   "metadata": {},
   "outputs": [],
   "source": [
    "#To open RBI website\n",
    "driver.get('https://www.rbi.org.in/Scripts/ATMView.aspx')"
   ]
  },
  {
   "cell_type": "code",
   "execution_count": 4,
   "metadata": {},
   "outputs": [
    {
     "name": "stdout",
     "output_type": "stream",
     "text": [
      "['https://rbidocs.rbi.org.in/rdocs/ATM/DOCs/ATMCARDSMARCH2326696F4AA2574B6FBA44619F2E06D710.XLSX', 'https://rbidocs.rbi.org.in/rdocs/ATM/DOCs/ATMCARDSFEBRUARY23338AEF0694164CA3A9699D81995BBD86.XLSX', 'https://rbidocs.rbi.org.in/rdocs/ATM/DOCs/01ATM202390AF58B0729E4A70A0665091361E142A.XLSX']\n"
     ]
    }
   ],
   "source": [
    "from selenium.webdriver.common.by import By\n",
    "matches_2023 = driver.find_elements(By.TAG_NAME, 'tr')\n",
    "\n",
    "href_links_2023 = []\n",
    "\n",
    "# Iterate through the 'tr' elements\n",
    "for match in matches_2023:\n",
    "    # Find the anchor ('a') tags within each 'tr' element\n",
    "    anchor_tags = match.find_elements(By.TAG_NAME, 'a')\n",
    "    \n",
    "    # Extract the href attribute from each anchor tag\n",
    "    for anchor_tag in anchor_tags:\n",
    "        href = anchor_tag.get_attribute('href')\n",
    "        href_links_2023.append(href)\n",
    "\n",
    "\n",
    "import re\n",
    "\n",
    "#Define regex pattern for \n",
    "pattern = r'^https://rbidocs\\.rbi\\.org\\.in\\/rdocs\\/ATM\\/DOCs\\/.{30,52}\\.XLSX$'\n",
    "XLSX_links_2023 = []\n",
    "\n",
    "for link in href_links_2023:\n",
    "    if re.search(pattern, link):\n",
    "        XLSX_links_2023.append(link)\n",
    "\n",
    "#To get Jan - Mar 2023 data \n",
    "XLSX_links_2023 = XLSX_links_2023[3:6]\n",
    "print(XLSX_links_2023)"
   ]
  },
  {
   "cell_type": "code",
   "execution_count": 5,
   "metadata": {},
   "outputs": [],
   "source": [
    "#To go to 2022\n",
    "A2022_button = driver.find_element(By.ID ,\"btn2022\")\n",
    "A2022_button.click()"
   ]
  },
  {
   "cell_type": "code",
   "execution_count": 6,
   "metadata": {},
   "outputs": [],
   "source": [
    "#To go to all months\n",
    "All_months_2022 = driver.find_element(By.ID ,\"20220\")\n",
    "All_months_2022.click()"
   ]
  },
  {
   "cell_type": "code",
   "execution_count": 7,
   "metadata": {},
   "outputs": [
    {
     "name": "stdout",
     "output_type": "stream",
     "text": [
      "['https://rbidocs.rbi.org.in/rdocs/ATM/DOCs/ATMDECEMBER2022CFA6547F8B7F4CAD9711F84B0FDA47B4.XLSX', 'https://rbidocs.rbi.org.in/rdocs/ATM/DOCs/ATMNOVEMBER202258C819A62B7A4E62A5CD18B89722B406.XLSX', 'https://rbidocs.rbi.org.in/rdocs/ATM/DOCs/ATMOCTOBER202268A5EE9DC3C8404D931EEED487A22380.XLSX', 'https://rbidocs.rbi.org.in/rdocs/ATM/DOCs/ATMSEPT2022757FCD4121974841840DF3A80AA9B5F0.XLSX', 'https://rbidocs.rbi.org.in/rdocs/ATM/DOCs/ATMAUGUST20222A25E249961C42F5B5AD54F25F2FC9FD.XLSX', 'https://rbidocs.rbi.org.in/rdocs/ATM/DOCs/ATMJULY20224C14FCD4FB824FF88D5F00BD92FF64C7.XLSX', 'https://rbidocs.rbi.org.in/rdocs/ATM/DOCs/ATMJUNE2022609740452711440CA003589C4F9CA184.XLSX', 'https://rbidocs.rbi.org.in/rdocs/ATM/DOCs/ATM24062022B1682B16A8DE46F9A4EF93B1A45F4483.XLSX', 'https://rbidocs.rbi.org.in/rdocs/ATM/DOCs/ATMAICSAPRIL2022DCE60947F453408BB0B9B12FC25B4FB3.XLSX']\n"
     ]
    }
   ],
   "source": [
    "#to find the table row elements on the webpage\n",
    "matches_2022 = driver.find_elements(By.TAG_NAME, 'tr')\n",
    "\n",
    "href_links_2022 = []\n",
    "\n",
    "# Iterate through the 'tr' elements\n",
    "for match in matches_2022:\n",
    "    # Find the anchor ('a') tags within each 'tr' element\n",
    "    anchor_tags = match.find_elements(By.TAG_NAME, 'a')\n",
    "    \n",
    "    # Extract the href attribute from each anchor tag\n",
    "    for anchor_tag in anchor_tags:\n",
    "        href = anchor_tag.get_attribute('href')\n",
    "        href_links_2022.append(href)\n",
    "\n",
    "#Define regex pattern for XLSX links\n",
    "pattern = r'^https://rbidocs\\.rbi\\.org\\.in\\/rdocs\\/ATM\\/DOCs\\/.{30,52}\\.XLSX$'\n",
    "XLSX_links_2022 = []\n",
    "\n",
    "for link in href_links_2022:\n",
    "    if re.search(pattern, link):\n",
    "        XLSX_links_2022.append(link)\n",
    "\n",
    "#To remove january and february data of 2022 from the list\n",
    "XLSX_links_2022 = XLSX_links_2022[:-2]\n",
    "\n",
    "print(XLSX_links_2022)"
   ]
  },
  {
   "cell_type": "code",
   "execution_count": 8,
   "metadata": {},
   "outputs": [
    {
     "name": "stderr",
     "output_type": "stream",
     "text": [
      "C:\\ProgramData\\Anaconda3\\lib\\site-packages\\requests\\__init__.py:89: RequestsDependencyWarning: urllib3 (2.0.4) or chardet (3.0.4) doesn't match a supported version!\n",
      "  warnings.warn(\"urllib3 ({}) or chardet ({}) doesn't match a supported \"\n"
     ]
    },
    {
     "name": "stdout",
     "output_type": "stream",
     "text": [
      "File 'Dec_2022.xlsx' downloaded and saved successfully to 'C:/Users/DELL/OneDrive/Desktop/Codeacademy/HDFC_virtual_internship\\Dec_2022.xlsx'.\n",
      "File 'Nov_2022.xlsx' downloaded and saved successfully to 'C:/Users/DELL/OneDrive/Desktop/Codeacademy/HDFC_virtual_internship\\Nov_2022.xlsx'.\n",
      "File 'Oct_2022.xlsx' downloaded and saved successfully to 'C:/Users/DELL/OneDrive/Desktop/Codeacademy/HDFC_virtual_internship\\Oct_2022.xlsx'.\n",
      "File 'Sept_2022.xlsx' downloaded and saved successfully to 'C:/Users/DELL/OneDrive/Desktop/Codeacademy/HDFC_virtual_internship\\Sept_2022.xlsx'.\n",
      "File 'Aug_2022.xlsx' downloaded and saved successfully to 'C:/Users/DELL/OneDrive/Desktop/Codeacademy/HDFC_virtual_internship\\Aug_2022.xlsx'.\n",
      "File 'Jul_2022.xlsx' downloaded and saved successfully to 'C:/Users/DELL/OneDrive/Desktop/Codeacademy/HDFC_virtual_internship\\Jul_2022.xlsx'.\n",
      "File 'Jun_2022.xlsx' downloaded and saved successfully to 'C:/Users/DELL/OneDrive/Desktop/Codeacademy/HDFC_virtual_internship\\Jun_2022.xlsx'.\n",
      "File 'May_2022.xlsx' downloaded and saved successfully to 'C:/Users/DELL/OneDrive/Desktop/Codeacademy/HDFC_virtual_internship\\May_2022.xlsx'.\n",
      "File 'Apr_2022.xlsx' downloaded and saved successfully to 'C:/Users/DELL/OneDrive/Desktop/Codeacademy/HDFC_virtual_internship\\Apr_2022.xlsx'.\n",
      "File 'Mar_2023.xlsx' downloaded and saved successfully to 'C:/Users/DELL/OneDrive/Desktop/Codeacademy/HDFC_virtual_internship\\Mar_2023.xlsx'.\n",
      "File 'Feb_2023.xlsx' downloaded and saved successfully to 'C:/Users/DELL/OneDrive/Desktop/Codeacademy/HDFC_virtual_internship\\Feb_2023.xlsx'.\n",
      "File 'Jan_2023.xlsx' downloaded and saved successfully to 'C:/Users/DELL/OneDrive/Desktop/Codeacademy/HDFC_virtual_internship\\Jan_2023.xlsx'.\n"
     ]
    }
   ],
   "source": [
    "XLSX_links_2022_2023 = XLSX_links_2022 + XLSX_links_2023\n",
    "#print(XLSX_links_2022_2023)\n",
    "\n",
    "import os\n",
    "import requests\n",
    "\n",
    "\n",
    "# Folder path on your local desktop\n",
    "download_folder = \"C:/Users/DELL/OneDrive/Desktop/Codeacademy/HDFC_virtual_internship\"\n",
    "\n",
    "# Create the download folder if it doesn't exist\n",
    "os.makedirs(download_folder, exist_ok=True)\n",
    "\n",
    "\n",
    "for link in XLSX_links_2022_2023:\n",
    "    \n",
    "# URL of the Excel file\n",
    "    excel_url = link\n",
    "# Extract the file name from the URL\n",
    "    if 'DEC' in excel_url:\n",
    "        file_name = 'Dec_2022.xlsx'\n",
    "    elif 'NOV' in excel_url:\n",
    "        file_name = 'Nov_2022.xlsx'\n",
    "    elif 'OCT' in excel_url:\n",
    "        file_name = 'Oct_2022.xlsx'\n",
    "    elif 'SEPT' in excel_url:\n",
    "        file_name = 'Sept_2022.xlsx'\n",
    "    elif 'AUG' in excel_url:\n",
    "        file_name = 'Aug_2022.xlsx'\n",
    "    elif 'JUL' in excel_url:\n",
    "        file_name = 'Jul_2022.xlsx'\n",
    "    elif 'JUN' in excel_url:\n",
    "        file_name = 'Jun_2022.xlsx'\n",
    "    elif 'M2406' in excel_url:\n",
    "        file_name = 'May_2022.xlsx'\n",
    "    elif 'APR' in excel_url:\n",
    "        file_name = 'Apr_2022.xlsx'\n",
    "    elif 'MAR' in excel_url:\n",
    "        file_name = 'Mar_2023.xlsx'\n",
    "    elif 'FEB' in excel_url:\n",
    "        file_name = 'Feb_2023.xlsx'\n",
    "    else:\n",
    "        file_name = 'Jan_2023.xlsx'\n",
    "    \n",
    "# Construct the local file path\n",
    "    local_file_path = os.path.join(download_folder, file_name)\n",
    "\n",
    "# Download the Excel file\n",
    "    response = requests.get(excel_url)\n",
    "    if response.status_code == 200:\n",
    "        with open(local_file_path, 'wb') as file:\n",
    "            file.write(response.content)\n",
    "            print(f\"File '{file_name}' downloaded and saved successfully to '{local_file_path}'.\")\n",
    "    else:\n",
    "        print(f\"Failed to download the file.\")"
   ]
  },
  {
   "cell_type": "code",
   "execution_count": null,
   "metadata": {},
   "outputs": [],
   "source": []
  },
  {
   "cell_type": "code",
   "execution_count": null,
   "metadata": {},
   "outputs": [],
   "source": []
  }
 ],
 "metadata": {
  "kernelspec": {
   "display_name": "Python 3",
   "language": "python",
   "name": "python3"
  },
  "language_info": {
   "codemirror_mode": {
    "name": "ipython",
    "version": 3
   },
   "file_extension": ".py",
   "mimetype": "text/x-python",
   "name": "python",
   "nbconvert_exporter": "python",
   "pygments_lexer": "ipython3",
   "version": "3.8.5"
  }
 },
 "nbformat": 4,
 "nbformat_minor": 4
}
